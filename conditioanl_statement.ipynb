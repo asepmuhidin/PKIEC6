{
  "nbformat": 4,
  "nbformat_minor": 0,
  "metadata": {
    "colab": {
      "provenance": [],
      "authorship_tag": "ABX9TyPPzIzGv3p25ae5WmGyu4kS",
      "include_colab_link": true
    },
    "kernelspec": {
      "name": "python3",
      "display_name": "Python 3"
    },
    "language_info": {
      "name": "python"
    }
  },
  "cells": [
    {
      "cell_type": "markdown",
      "metadata": {
        "id": "view-in-github",
        "colab_type": "text"
      },
      "source": [
        "<a href=\"https://colab.research.google.com/github/asepmuhidin/PKIEC6/blob/main/conditioanl_statement.ipynb\" target=\"_parent\"><img src=\"https://colab.research.google.com/assets/colab-badge.svg\" alt=\"Open In Colab\"/></a>"
      ]
    },
    {
      "cell_type": "code",
      "execution_count": 4,
      "metadata": {
        "colab": {
          "base_uri": "https://localhost:8080/"
        },
        "id": "BppnKWfy_Bu-",
        "outputId": "00c49777-76cd-417b-fd72-23a51fb4a986"
      },
      "outputs": [
        {
          "output_type": "stream",
          "name": "stdout",
          "text": [
            "Positif\n"
          ]
        }
      ],
      "source": [
        "a=6\n",
        "if a>0 :\n",
        "  output=\"Positif\"\n",
        "else:\n",
        "  output=\"Negatif\"\n",
        "\n",
        "print(output)"
      ]
    },
    {
      "cell_type": "code",
      "source": [
        "a=0\n",
        "if a>0 :\n",
        "  output=\"Positif\"\n",
        "elif a<0:\n",
        "  output=\"Negatif\"\n",
        "else:\n",
        "  output=\"Nol\"\n",
        "print(output)"
      ],
      "metadata": {
        "colab": {
          "base_uri": "https://localhost:8080/"
        },
        "id": "nBc4eYZrBSoH",
        "outputId": "aafdf00e-f509-42be-88ae-f2583f444906"
      },
      "execution_count": 7,
      "outputs": [
        {
          "output_type": "stream",
          "name": "stdout",
          "text": [
            "Nol\n"
          ]
        }
      ]
    },
    {
      "cell_type": "code",
      "source": [
        "import math\n",
        "#INPUT\n",
        "a,b,c=1,3,-3\n",
        "\n",
        "#PROCESS\n",
        "d=b**2-4*a*c\n",
        "if d>0:\n",
        "  x1=(-b+math.sqrt(d))/(2*a)\n",
        "  x2=(-b-math.sqrt(d))/(2*a)\n",
        "  status=\"x1 dan x2 akar real berbeda\"\n",
        "elif d==0:\n",
        "  x1=x2=(-b+math.sqrt(d))/(2*a)\n",
        "  status=\"x1 dan x2 akar kembar\"\n",
        "else:\n",
        "  x1=\"x1 akar imaginer\"\n",
        "  x2=\"x2 akar imaginer\"\n",
        "  status=\"\"\n",
        "#INPUT\n",
        "print(f\"Nilai determinan={d}\")\n",
        "print(f\"Nilai akar x1={x1}\")\n",
        "print(f\"Nilai akar x2={x2}\")\n",
        "print(f\"Status akar : {status}\")\n"
      ],
      "metadata": {
        "colab": {
          "base_uri": "https://localhost:8080/"
        },
        "id": "d8StfgP-C-j2",
        "outputId": "d74b9241-b07f-40ae-9adb-397151c2d73d"
      },
      "execution_count": 17,
      "outputs": [
        {
          "output_type": "stream",
          "name": "stdout",
          "text": [
            "Nilai determinan=21\n",
            "Nilai akar x1=0.7912878474779199\n",
            "Nilai akar x2=-3.79128784747792\n",
            "Status akar : x1 dan x2 akar real berbeda\n"
          ]
        }
      ]
    }
  ]
}