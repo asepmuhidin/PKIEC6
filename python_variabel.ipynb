{
  "nbformat": 4,
  "nbformat_minor": 0,
  "metadata": {
    "colab": {
      "provenance": [],
      "authorship_tag": "ABX9TyMaj4eJGYln4AyP5wSbdKPh",
      "include_colab_link": true
    },
    "kernelspec": {
      "name": "python3",
      "display_name": "Python 3"
    },
    "language_info": {
      "name": "python"
    }
  },
  "cells": [
    {
      "cell_type": "markdown",
      "metadata": {
        "id": "view-in-github",
        "colab_type": "text"
      },
      "source": [
        "<a href=\"https://colab.research.google.com/github/asepmuhidin/PKIEC6/blob/main/python_variabel.ipynb\" target=\"_parent\"><img src=\"https://colab.research.google.com/assets/colab-badge.svg\" alt=\"Open In Colab\"/></a>"
      ]
    },
    {
      "cell_type": "code",
      "execution_count": 2,
      "metadata": {
        "colab": {
          "base_uri": "https://localhost:8080/"
        },
        "id": "SjPUnNWd32uL",
        "outputId": "f40bfcee-4034-465a-a7c7-43405618302f"
      },
      "outputs": [
        {
          "output_type": "stream",
          "name": "stdout",
          "text": [
            "Hello world\n"
          ]
        }
      ],
      "source": [
        "print(\"Hello world\")"
      ]
    },
    {
      "cell_type": "code",
      "source": [
        "kantong=\"kaca mata\"\n",
        "Kantong=10000000\n",
        "print(\"Kantong\")\n",
        "print(kantong)\n",
        "print(Kantong)\n"
      ],
      "metadata": {
        "colab": {
          "base_uri": "https://localhost:8080/"
        },
        "id": "ZxhvaB345lFo",
        "outputId": "a8b2a6b1-07aa-457f-9a3a-049958943950"
      },
      "execution_count": 4,
      "outputs": [
        {
          "output_type": "stream",
          "name": "stdout",
          "text": [
            "Kantong\n",
            "kaca mata\n",
            "10000000\n"
          ]
        }
      ]
    },
    {
      "cell_type": "code",
      "source": [
        "import math\n",
        "\n",
        "math.sqrt(16)"
      ],
      "metadata": {
        "colab": {
          "base_uri": "https://localhost:8080/"
        },
        "id": "1YkwHhxG8AIu",
        "outputId": "24db3bf2-e562-4508-c676-301c3ead1e69"
      },
      "execution_count": 5,
      "outputs": [
        {
          "output_type": "execute_result",
          "data": {
            "text/plain": [
              "4.0"
            ]
          },
          "metadata": {},
          "execution_count": 5
        }
      ]
    },
    {
      "cell_type": "code",
      "source": [
        "a=1\n",
        "b=2\n",
        "c=-8\n",
        "\n",
        "d=b*b-4*a*c\n",
        "print(d)"
      ],
      "metadata": {
        "colab": {
          "base_uri": "https://localhost:8080/"
        },
        "id": "cmIHCmu58fMi",
        "outputId": "93c1bb5e-8122-4a4c-d102-6d57fb083430"
      },
      "execution_count": 6,
      "outputs": [
        {
          "output_type": "stream",
          "name": "stdout",
          "text": [
            "36\n"
          ]
        }
      ]
    },
    {
      "cell_type": "code",
      "source": [
        "x1=(-b+math.sqrt(d))/(2*a)\n",
        "x2=(-b-math.sqrt(d))/(2*a)\n",
        "\n",
        "print(x1)\n",
        "print(x2)"
      ],
      "metadata": {
        "colab": {
          "base_uri": "https://localhost:8080/"
        },
        "id": "ZbgZOZvZ-sKa",
        "outputId": "ef077bf1-7e19-4fff-fe48-18afff87a576"
      },
      "execution_count": 8,
      "outputs": [
        {
          "output_type": "stream",
          "name": "stdout",
          "text": [
            "2.0\n",
            "-4.0\n"
          ]
        }
      ]
    },
    {
      "cell_type": "code",
      "source": [
        "h_jeruk=4000\n",
        "h_apel=5000\n",
        "\n",
        "qty_beli_apel=3\n",
        "qty_beli_jeruk=2\n",
        "\n",
        "tot_beli_apel=h_apel*qty_beli_apel\n",
        "tot_beli_jeruk=h_jeruk*qty_beli_jeruk\n",
        "\n",
        "total_beli=tot_beli_apel+tot_beli_jeruk\n",
        "\n",
        "print(\"Total beli : Rp.\"+ str(total_beli))\n"
      ],
      "metadata": {
        "colab": {
          "base_uri": "https://localhost:8080/"
        },
        "id": "qUI8VkIxCwhS",
        "outputId": "d4ab0deb-4445-40c3-ff22-e51b2a532839"
      },
      "execution_count": 12,
      "outputs": [
        {
          "output_type": "stream",
          "name": "stdout",
          "text": [
            "Total beli : Rp.23000\n"
          ]
        }
      ]
    },
    {
      "cell_type": "code",
      "source": [
        "print(f\"Total beli adalah Rp.{total_beli}\")"
      ],
      "metadata": {
        "colab": {
          "base_uri": "https://localhost:8080/"
        },
        "id": "IDiKUcWEEgNx",
        "outputId": "c2d638e6-93da-4b80-c4f7-a109f606d487"
      },
      "execution_count": 13,
      "outputs": [
        {
          "output_type": "stream",
          "name": "stdout",
          "text": [
            "Total beli adalah Rp.23000\n"
          ]
        }
      ]
    },
    {
      "cell_type": "code",
      "source": [
        "print(f\"Total beli apel : Rp.{tot_beli_apel}\")\n",
        "print(f\"Total beli jeruk : Rp.{tot_beli_jeruk}\")\n",
        "print(\"====================================\")\n",
        "print(f\"Total belanja : Rp.{total_beli}\")"
      ],
      "metadata": {
        "colab": {
          "base_uri": "https://localhost:8080/"
        },
        "id": "VE0Fd8dNE_eD",
        "outputId": "bcec0344-41bf-46e9-d873-e09a3b0f0a27"
      },
      "execution_count": 14,
      "outputs": [
        {
          "output_type": "stream",
          "name": "stdout",
          "text": [
            "Total beli apel : Rp.15000\n",
            "Total beli jeruk : Rp.8000\n",
            "====================================\n",
            "Total belanja : Rp.23000\n"
          ]
        }
      ]
    }
  ]
}