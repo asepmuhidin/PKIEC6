{
  "nbformat": 4,
  "nbformat_minor": 0,
  "metadata": {
    "colab": {
      "provenance": [],
      "authorship_tag": "ABX9TyP78e0rC5IrqoUUxaXutouf",
      "include_colab_link": true
    },
    "kernelspec": {
      "name": "python3",
      "display_name": "Python 3"
    },
    "language_info": {
      "name": "python"
    }
  },
  "cells": [
    {
      "cell_type": "markdown",
      "metadata": {
        "id": "view-in-github",
        "colab_type": "text"
      },
      "source": [
        "<a href=\"https://colab.research.google.com/github/asepmuhidin/PKIEC6/blob/main/perulangan.ipynb\" target=\"_parent\"><img src=\"https://colab.research.google.com/assets/colab-badge.svg\" alt=\"Open In Colab\"/></a>"
      ]
    },
    {
      "cell_type": "code",
      "execution_count": 5,
      "metadata": {
        "colab": {
          "base_uri": "https://localhost:8080/"
        },
        "id": "fifKco_yAfLc",
        "outputId": "f5e4ea3f-37cf-4ace-ce30-95eb5f8b91c3"
      },
      "outputs": [
        {
          "output_type": "stream",
          "name": "stdout",
          "text": [
            "0\n",
            "1\n",
            "2\n",
            "3\n",
            "4\n"
          ]
        }
      ],
      "source": [
        "for i in range(5):\n",
        "  print(i)"
      ]
    },
    {
      "cell_type": "code",
      "source": [
        "for i in range(1,6):\n",
        "  print(i)"
      ],
      "metadata": {
        "colab": {
          "base_uri": "https://localhost:8080/"
        },
        "id": "8cBlwRJpBL76",
        "outputId": "7ccfad38-bc05-4e7b-a978-3bba1ea62b59"
      },
      "execution_count": 6,
      "outputs": [
        {
          "output_type": "stream",
          "name": "stdout",
          "text": [
            "1\n",
            "2\n",
            "3\n",
            "4\n",
            "5\n"
          ]
        }
      ]
    },
    {
      "cell_type": "code",
      "source": [
        "for i in range(10,16):\n",
        "  print(i)"
      ],
      "metadata": {
        "colab": {
          "base_uri": "https://localhost:8080/"
        },
        "id": "FvlVYVSTBgoJ",
        "outputId": "46fc4329-5e6b-42f6-f475-a297e25da785"
      },
      "execution_count": 7,
      "outputs": [
        {
          "output_type": "stream",
          "name": "stdout",
          "text": [
            "10\n",
            "11\n",
            "12\n",
            "13\n",
            "14\n",
            "15\n"
          ]
        }
      ]
    },
    {
      "cell_type": "code",
      "source": [
        "#output 2,3,4,5,6,7,8,9\n",
        "for i in range(2,10):\n",
        "  print(i,end=\", \")"
      ],
      "metadata": {
        "colab": {
          "base_uri": "https://localhost:8080/"
        },
        "id": "5iaMNiXXBvzs",
        "outputId": "87795047-aa5a-46b9-b334-6574c0087947"
      },
      "execution_count": 14,
      "outputs": [
        {
          "output_type": "stream",
          "name": "stdout",
          "text": [
            "2, 3, 4, 5, 6, 7, 8, 9, "
          ]
        }
      ]
    },
    {
      "cell_type": "code",
      "source": [
        "#output : 1,3,5,dst\n",
        "for i in range(1,10,2):\n",
        "  print(i,end=\",\")"
      ],
      "metadata": {
        "colab": {
          "base_uri": "https://localhost:8080/"
        },
        "id": "pHFGnnBYDDJy",
        "outputId": "a9ae4458-4089-46fc-eb4b-d928a0e56d90"
      },
      "execution_count": 15,
      "outputs": [
        {
          "output_type": "stream",
          "name": "stdout",
          "text": [
            "1,3,5,7,9,"
          ]
        }
      ]
    },
    {
      "cell_type": "code",
      "source": [
        "#output 2020,2021,2022,2023,2024,2025\n",
        "for tahun in range(2020,2026):\n",
        "  print(tahun, end=\",\")"
      ],
      "metadata": {
        "colab": {
          "base_uri": "https://localhost:8080/"
        },
        "id": "45wONxi9DUGC",
        "outputId": "17ee8ef5-3f68-4075-e239-fc9df53e1e38"
      },
      "execution_count": 17,
      "outputs": [
        {
          "output_type": "stream",
          "name": "stdout",
          "text": [
            "2020,2021,2022,2023,2024,2025,"
          ]
        }
      ]
    },
    {
      "cell_type": "code",
      "source": [
        "#Tampilkan daftar tahun kabisat dari 2000 sd 2025\n",
        "#tahun kabisat itu 4 tahun sekali\n",
        "for kabisat in range(2000,2025,4):\n",
        "  print(kabisat, end=\",\")\n"
      ],
      "metadata": {
        "colab": {
          "base_uri": "https://localhost:8080/"
        },
        "id": "HZabI88HDuip",
        "outputId": "4c4089b7-1e0d-48d3-dce0-767382776adc"
      },
      "execution_count": 18,
      "outputs": [
        {
          "output_type": "stream",
          "name": "stdout",
          "text": [
            "2000,2004,2008,2012,2016,2020,2024,"
          ]
        }
      ]
    },
    {
      "cell_type": "code",
      "source": [
        "#x=[-3,-2,-1,0,1,2,3,4,5]\n",
        "#y=2*x+1\n",
        "X=range(-5,6)\n",
        "Y=[]\n",
        "for x in X:\n",
        "  y=2*x+1\n",
        "  print(f\"x={x}, y={y}\")"
      ],
      "metadata": {
        "colab": {
          "base_uri": "https://localhost:8080/"
        },
        "id": "oKnbEG5HEp3b",
        "outputId": "ab04053d-cfed-426d-815c-4098c480fc83"
      },
      "execution_count": 25,
      "outputs": [
        {
          "output_type": "stream",
          "name": "stdout",
          "text": [
            "x=-5, y=-9\n",
            "x=-4, y=-7\n",
            "x=-3, y=-5\n",
            "x=-2, y=-3\n",
            "x=-1, y=-1\n",
            "x=0, y=1\n",
            "x=1, y=3\n",
            "x=2, y=5\n",
            "x=3, y=7\n",
            "x=4, y=9\n",
            "x=5, y=11\n"
          ]
        }
      ]
    },
    {
      "cell_type": "code",
      "source": [
        "#Perulangan menurun\n",
        "#5,4,3,2,1\n",
        "for i in range(5,0,-1):\n",
        "  print(i, end=\",\")"
      ],
      "metadata": {
        "colab": {
          "base_uri": "https://localhost:8080/"
        },
        "id": "40cKiZGrH_kP",
        "outputId": "bc36f3a0-61df-4b7e-9e90-4a8a20c83b09"
      },
      "execution_count": 26,
      "outputs": [
        {
          "output_type": "stream",
          "name": "stdout",
          "text": [
            "5,4,3,2,1,"
          ]
        }
      ]
    },
    {
      "cell_type": "code",
      "source": [
        "#Menghitung nilai bilangan faktorial\n",
        "#n!=nx(n-1)x(n-2)x(n-3) dst\n",
        "#4!=4x(4-1)x(4-2)x(4-3)\n",
        "#4!=4x3x2x1\n",
        "fak=1\n",
        "n=int(input(\"Masukkan bilangan ?\"))\n",
        "for i in range(n,0,-1):\n",
        "  fak*=i\n",
        "\n",
        "print(f\"{n}! adalah {fak}\")"
      ],
      "metadata": {
        "colab": {
          "base_uri": "https://localhost:8080/"
        },
        "id": "g7RWcJaMHXB-",
        "outputId": "1f93e0d2-db9e-45f1-daf4-3d5128cefcb3"
      },
      "execution_count": 33,
      "outputs": [
        {
          "output_type": "stream",
          "name": "stdout",
          "text": [
            "Masukkan bilangan ?10\n",
            "10! adalah 3628800\n"
          ]
        }
      ]
    },
    {
      "cell_type": "code",
      "source": [
        "x=1\n",
        "while x<=5:\n",
        "  print(x)\n",
        "  x+=1"
      ],
      "metadata": {
        "colab": {
          "base_uri": "https://localhost:8080/"
        },
        "id": "pJj_sFbcIcPE",
        "outputId": "7bdc5fd2-2753-409a-80b3-c93cd08355ad"
      },
      "execution_count": 34,
      "outputs": [
        {
          "output_type": "stream",
          "name": "stdout",
          "text": [
            "1\n",
            "2\n",
            "3\n",
            "4\n",
            "5\n"
          ]
        }
      ]
    },
    {
      "cell_type": "code",
      "source": [
        "#Program akan berhenti jika user memilih keluar\n",
        "jawab='y'\n",
        "while jawab=='y':\n",
        "  fak=1\n",
        "  n=int(input(\"Masukkan bilangan ?\"))\n",
        "\n",
        "  for i in range(n,0,-1):\n",
        "    fak*=i\n",
        "\n",
        "  print(f\"{n}! adalah {fak}\")\n",
        "  jawab=input(\"Apakah mau mencoba lagi (y/t)?\")"
      ],
      "metadata": {
        "colab": {
          "base_uri": "https://localhost:8080/"
        },
        "id": "Cn5xEQUcK2wQ",
        "outputId": "0668971a-80d9-42ae-c331-5c5f548eba51"
      },
      "execution_count": 42,
      "outputs": [
        {
          "name": "stdout",
          "output_type": "stream",
          "text": [
            "Masukkan bilangan ?2\n",
            "2! adalah 2\n",
            "Apakah mau mencoba lagi (y/t)?y\n",
            "Masukkan bilangan ?4\n",
            "4! adalah 24\n",
            "Apakah mau mencoba lagi (y/t)?t\n"
          ]
        }
      ]
    }
  ]
}