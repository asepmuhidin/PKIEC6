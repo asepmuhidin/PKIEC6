{
  "nbformat": 4,
  "nbformat_minor": 0,
  "metadata": {
    "colab": {
      "provenance": [],
      "authorship_tag": "ABX9TyMd3nJegnL/T/O2NfBgTFcp",
      "include_colab_link": true
    },
    "kernelspec": {
      "name": "python3",
      "display_name": "Python 3"
    },
    "language_info": {
      "name": "python"
    }
  },
  "cells": [
    {
      "cell_type": "markdown",
      "metadata": {
        "id": "view-in-github",
        "colab_type": "text"
      },
      "source": [
        "<a href=\"https://colab.research.google.com/github/asepmuhidin/PKIEC6/blob/main/Tipe_Data_Koleksi_(List%2C_Tuple%2C_Set%2C_Dict).ipynb\" target=\"_parent\"><img src=\"https://colab.research.google.com/assets/colab-badge.svg\" alt=\"Open In Colab\"/></a>"
      ]
    },
    {
      "cell_type": "markdown",
      "source": [
        "# Tipe Data Koleksi\n",
        "\n",
        "> Add blockquote\n",
        "\n"
      ],
      "metadata": {
        "id": "FE_5INfe8drt"
      }
    },
    {
      "cell_type": "markdown",
      "source": [
        "## List (Daftar)"
      ],
      "metadata": {
        "id": "RKe9dNHY8ge5"
      }
    },
    {
      "cell_type": "markdown",
      "source": [
        "### Membuat List"
      ],
      "metadata": {
        "id": "2iMFP1d_DnBY"
      }
    },
    {
      "cell_type": "code",
      "source": [
        "# Untuk membuat List adalah : nama_list=[item1,item2..]\n",
        "# Contoh\n",
        "\n",
        "students=['Aktsa Alfazri','Amar S Hikam','Azhari Ramdahan','Ranti Aryanti']\n",
        "# Cara mengakses List adalah : nama_list[index]\n",
        "# Contoh\n",
        "#students[0]-->Aktsa Alfazri\n",
        "#students[1]-->Amar S Hikam\n",
        "#students[3]-->Ranti Aryanti\n",
        "# Bagaimana supaya outputnya adalah \"Nama Saya Amar S Hikam\"\n",
        "print(f\"Nama saya {students[1]}\")"
      ],
      "metadata": {
        "colab": {
          "base_uri": "https://localhost:8080/"
        },
        "id": "tWSUjCtd81SJ",
        "outputId": "5432ba53-c6ff-4b9f-9b27-550edb1eef8a"
      },
      "execution_count": 14,
      "outputs": [
        {
          "output_type": "stream",
          "name": "stdout",
          "text": [
            "Nama saya Amar S Hikam\n"
          ]
        }
      ]
    },
    {
      "cell_type": "markdown",
      "source": [
        "### Update/ merubah List"
      ],
      "metadata": {
        "id": "XY6mOzF1Dxru"
      }
    },
    {
      "cell_type": "code",
      "source": [
        "# Merubah/update item list adalah nama_list[index_updated]=value\n",
        "# Contoh\n",
        "students[1]='Daffa Azhari'\n",
        "print(f\"Nama saya {students[1]}\")"
      ],
      "metadata": {
        "colab": {
          "base_uri": "https://localhost:8080/"
        },
        "id": "6rc9E5QdD1aW",
        "outputId": "e47d8b3f-0c8d-4063-9ce6-ab67dbed7214"
      },
      "execution_count": 15,
      "outputs": [
        {
          "output_type": "stream",
          "name": "stdout",
          "text": [
            "Nama saya Daffa Azhari\n"
          ]
        }
      ]
    },
    {
      "cell_type": "markdown",
      "source": [
        "### Traversing a list"
      ],
      "metadata": {
        "id": "vcEFKgohD7hV"
      }
    },
    {
      "cell_type": "code",
      "source": [
        "# Menampilkan seluruh data list menggunakan Loop\n",
        "for student in students:\n",
        "  print(student)\n",
        "\n",
        "print(\"==========================\")\n",
        "\n",
        "#Menampilkan seluruh data list dan index menggunakan loop dan enumerate\n",
        "for nomor,student in enumerate(students):\n",
        "  print(f\"{nomor+1}.{student}\")"
      ],
      "metadata": {
        "colab": {
          "base_uri": "https://localhost:8080/"
        },
        "id": "4XV6qKXXCG4j",
        "outputId": "91cf33ce-7d10-45ea-8eac-9639e28ad720"
      },
      "execution_count": 13,
      "outputs": [
        {
          "output_type": "stream",
          "name": "stdout",
          "text": [
            "Aktsa Alfazri\n",
            "Daffa Azhari\n",
            "Azhari Ramdahan\n",
            "Ranti Aryanti\n",
            "==========================\n",
            "1.Aktsa Alfazri\n",
            "2.Daffa Azhari\n",
            "3.Azhari Ramdahan\n",
            "4.Ranti Aryanti\n"
          ]
        }
      ]
    },
    {
      "cell_type": "markdown",
      "source": [
        "### List operations"
      ],
      "metadata": {
        "id": "nEskb6LxENOa"
      }
    },
    {
      "cell_type": "code",
      "source": [
        "# Perkalian List : nama_list * n\n",
        "# Contoh\n",
        "kue=[\"Pisang goreng\",\"Putu\"]*3\n",
        "print(kue)"
      ],
      "metadata": {
        "colab": {
          "base_uri": "https://localhost:8080/"
        },
        "id": "i0lhKI5QEPgL",
        "outputId": "57c4804a-f68b-4455-b04c-e4ac93b097c0"
      },
      "execution_count": 16,
      "outputs": [
        {
          "output_type": "stream",
          "name": "stdout",
          "text": [
            "['Pisang goreng', 'Putu', 'Pisang goreng', 'Putu', 'Pisang goreng', 'Putu']\n"
          ]
        }
      ]
    },
    {
      "cell_type": "code",
      "source": [
        "# Penjumlahan / Penggabungan List : list_a + list_b\n",
        "\n",
        "kue_basah=[\"Brownis\",\"Apem\",\"Bika Ambon\"]\n",
        "kue_kering=[\"Keripik Bawang\",\"Keripik Singkong\",\"Kue Kacang\",\"Akar Kelapa\"]\n",
        "\n",
        "daftar_kue=kue_basah + kue_kering\n",
        "\n",
        "print(daftar_kue)"
      ],
      "metadata": {
        "colab": {
          "base_uri": "https://localhost:8080/"
        },
        "id": "Jk15EtLVEk37",
        "outputId": "e14fc285-6f47-4b58-9fde-5794345b8a4e"
      },
      "execution_count": 20,
      "outputs": [
        {
          "output_type": "stream",
          "name": "stdout",
          "text": [
            "['Brownis', 'Apem', 'Bika Ambon', 'Keripik Bawang', 'Keripik Singkong', 'Kue Kacang', 'Akar Kelapa']\n"
          ]
        }
      ]
    },
    {
      "cell_type": "markdown",
      "source": [
        "### List slices"
      ],
      "metadata": {
        "id": "hoLXUwiXFfKX"
      }
    },
    {
      "cell_type": "code",
      "source": [
        "# Menampilkan semua data\n",
        "print(daftar_kue[:])"
      ],
      "metadata": {
        "colab": {
          "base_uri": "https://localhost:8080/"
        },
        "id": "GDBkjvrmFhYR",
        "outputId": "7c365fc2-8d4f-4ff3-eff6-4011c352ebaf"
      },
      "execution_count": 21,
      "outputs": [
        {
          "output_type": "stream",
          "name": "stdout",
          "text": [
            "['Brownis', 'Apem', 'Bika Ambon', 'Keripik Bawang', 'Keripik Singkong', 'Kue Kacang', 'Akar Kelapa']\n"
          ]
        }
      ]
    },
    {
      "cell_type": "code",
      "source": [
        "# Menampilkan data dari n ke akhir data\n",
        "print(daftar_kue[1:])"
      ],
      "metadata": {
        "colab": {
          "base_uri": "https://localhost:8080/"
        },
        "id": "NU_EEU0oF47w",
        "outputId": "07b9cb21-9724-4177-f383-c6f72a773c46"
      },
      "execution_count": 22,
      "outputs": [
        {
          "output_type": "stream",
          "name": "stdout",
          "text": [
            "['Apem', 'Bika Ambon', 'Keripik Bawang', 'Keripik Singkong', 'Kue Kacang', 'Akar Kelapa']\n"
          ]
        }
      ]
    },
    {
      "cell_type": "code",
      "source": [
        "# Latihan 1: Tampilkan data dari Keripik Bawang sampai akhir\n",
        "print(daftar_kue[3:])"
      ],
      "metadata": {
        "colab": {
          "base_uri": "https://localhost:8080/"
        },
        "id": "30SomDWfGOMY",
        "outputId": "bfdc1e5e-0f3d-4735-ea50-63e62e8ed2ab"
      },
      "execution_count": 24,
      "outputs": [
        {
          "output_type": "stream",
          "name": "stdout",
          "text": [
            "['Keripik Bawang', 'Keripik Singkong', 'Kue Kacang', 'Akar Kelapa']\n"
          ]
        }
      ]
    },
    {
      "cell_type": "code",
      "source": [
        "# Latihan 2:: Tampilkan data dari Bika Ambon sampai Keripik singkong\n",
        "print(daftar_kue[2:5])"
      ],
      "metadata": {
        "colab": {
          "base_uri": "https://localhost:8080/"
        },
        "id": "Q_AHl32uGm4S",
        "outputId": "ff316bac-05b9-4d9b-d810-1166d62ff65d"
      },
      "execution_count": 26,
      "outputs": [
        {
          "output_type": "stream",
          "name": "stdout",
          "text": [
            "['Bika Ambon', 'Keripik Bawang', 'Keripik Singkong']\n"
          ]
        }
      ]
    },
    {
      "cell_type": "markdown",
      "source": [
        "### List methods"
      ],
      "metadata": {
        "id": "gRD5OaWAHWjU"
      }
    },
    {
      "cell_type": "code",
      "source": [
        "# Menambahkan Item pada list :  nama_list.append(new_item)\n",
        "daftar_kue.append(\"Martabak\")\n",
        "print(daftar_kue)"
      ],
      "metadata": {
        "colab": {
          "base_uri": "https://localhost:8080/"
        },
        "id": "GowCnT9YGOOE",
        "outputId": "4cbd494e-0a4b-4739-cb95-ed820eac1cc1"
      },
      "execution_count": 27,
      "outputs": [
        {
          "output_type": "stream",
          "name": "stdout",
          "text": [
            "['Brownis', 'Apem', 'Bika Ambon', 'Keripik Bawang', 'Keripik Singkong', 'Kue Kacang', 'Akar Kelapa', 'Martabak']\n"
          ]
        }
      ]
    },
    {
      "cell_type": "code",
      "source": [
        "# Menampilkan Data Terakhir : daftar_list[-1]\n",
        "print(daftar_kue[-1])"
      ],
      "metadata": {
        "colab": {
          "base_uri": "https://localhost:8080/"
        },
        "id": "cxSsLqigFhaR",
        "outputId": "eb8cec60-fdd6-4952-acac-f605e69464c6"
      },
      "execution_count": 28,
      "outputs": [
        {
          "output_type": "stream",
          "name": "stdout",
          "text": [
            "Martabak\n"
          ]
        }
      ]
    },
    {
      "cell_type": "markdown",
      "source": [
        "## Tuple"
      ],
      "metadata": {
        "id": "YKyDOyNr8lwP"
      }
    },
    {
      "cell_type": "markdown",
      "source": [
        "##Set"
      ],
      "metadata": {
        "id": "A76aT91I8ozL"
      }
    },
    {
      "cell_type": "markdown",
      "source": [
        "## Dictionary"
      ],
      "metadata": {
        "id": "7c13Wolv8rUk"
      }
    },
    {
      "cell_type": "code",
      "execution_count": null,
      "metadata": {
        "id": "TedVC50h8btd"
      },
      "outputs": [],
      "source": []
    }
  ]
}